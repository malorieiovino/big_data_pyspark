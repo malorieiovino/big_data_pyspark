{
 "cells": [
  {
   "cell_type": "markdown",
   "id": "e723aeb9-c403-466e-a771-97d3a4f0b5e0",
   "metadata": {},
   "source": [
    "# World Bank Development Indicators: Clustering, Forecasting & Inequality Analysis\n",
    "\n",
    "This notebook presents a comprehensive PySpark workflow applied to the World Bank’s World Development Indicators (1960–2022). The objectives are:\n",
    "\n",
    "1. **Clustering (2020 Development Tiers):** Use K-Means to segment countries into two development groups based on key socio-economic and environmental indicators.  \n",
    "2. **Forecasting:** Build and evaluate lag-1 linear regression models to predict next-year GDP and life expectancy, using RMSE and R² to assess out-of-sample performance.  \n",
    "3. **Inequality Modeling:** Apply ElasticNet regression to identify the strongest predictors of income inequality (Gini index) among governance, social spending, and access variables.\n",
    "\n",
    "All data processing and modelling are performed with Spark’s DataFrame API and MLlib, and the code is structured for scalability—ready to run on HDFS or a standalone CSV. Key parameters (number of clusters, train/test split year, regularization settings) are defined up front to facilitate reproducibility and further experimentation.  \n"
   ]
  },
  {
   "cell_type": "markdown",
   "id": "75ea3aa7-ea0b-45c4-b319-c79390184a0b",
   "metadata": {},
   "source": [
    "---"
   ]
  },
  {
   "cell_type": "code",
   "execution_count": 2,
   "id": "b07832b7-52ad-4fdd-a8ce-8a418a086b46",
   "metadata": {},
   "outputs": [
    {
     "name": "stdout",
     "output_type": "stream",
     "text": [
      "Note: you may need to restart the kernel to use updated packages.\n"
     ]
    }
   ],
   "source": [
    "pip install pyspark kagglehub --quiet"
   ]
  },
  {
   "cell_type": "code",
   "execution_count": 4,
   "id": "3c8e5b6d-73f6-416a-b0f0-786d02301710",
   "metadata": {},
   "outputs": [],
   "source": [
    "from pyspark.sql import SparkSession\n",
    "from pyspark.sql.functions import col\n",
    "from pyspark.ml.feature import VectorAssembler, StandardScaler\n",
    "from pyspark.ml.classification import LogisticRegression, RandomForestClassifier, GBTClassifier\n",
    "from pyspark.ml.evaluation import BinaryClassificationEvaluator, MulticlassClassificationEvaluator\n",
    "\n",
    "import kagglehub"
   ]
  },
  {
   "cell_type": "markdown",
   "id": "f97a4b68-fde8-4083-8183-4516d4f26dc8",
   "metadata": {},
   "source": [
    "downloading the World Bank - World Development Indicators dataset from Kaggle"
   ]
  },
  {
   "cell_type": "markdown",
   "id": "e5a6060c-855a-48b5-b907-8057cb04217f",
   "metadata": {},
   "source": [
    "## 1. Data Loading & Preprocessing"
   ]
  },
  {
   "cell_type": "code",
   "execution_count": 14,
   "id": "148cf093-724f-4b9e-81db-85ffa68e9838",
   "metadata": {},
   "outputs": [
    {
     "name": "stdout",
     "output_type": "stream",
     "text": [
      "Warning: Looks like you're using an outdated API Version, please consider updating (server 1.7.4.2 / client 1.6.17)\n",
      "Dataset URL: https://www.kaggle.com/datasets/nicolasgonzalezmunoz/world-bank-world-development-indicators\n",
      "License(s): world-bank\n",
      "Downloading world-bank-world-development-indicators.zip to /Users/malorieiovino/Desktop/Goldsmiths/Term 2/NLP\n",
      " 94%|███████████████████████████████████▊  | 2.00M/2.12M [00:00<00:00, 2.97MB/s]\n",
      "100%|██████████████████████████████████████| 2.12M/2.12M [00:00<00:00, 2.86MB/s]\n",
      "Archive:  world-bank-world-development-indicators.zip\n",
      "  inflating: data/world_bank_development_indicators.csv  \n"
     ]
    }
   ],
   "source": [
    "!kaggle datasets download -d nicolasgonzalezmunoz/world-bank-world-development-indicators\n",
    "!unzip world-bank-world-development-indicators.zip -d data"
   ]
  },
  {
   "cell_type": "markdown",
   "id": "a2a89040-e76a-4cea-98dd-f742ba96d804",
   "metadata": {},
   "source": [
    "### 1.1 Loading into PySpark"
   ]
  },
  {
   "cell_type": "code",
   "execution_count": 6,
   "id": "2c2e627f-3062-4f61-8ca2-1e7cf10c8fdc",
   "metadata": {},
   "outputs": [
    {
     "name": "stderr",
     "output_type": "stream",
     "text": [
      "Setting default log level to \"WARN\".\n",
      "To adjust logging level use sc.setLogLevel(newLevel). For SparkR, use setLogLevel(newLevel).\n",
      "25/05/08 11:31:58 WARN NativeCodeLoader: Unable to load native-hadoop library for your platform... using builtin-java classes where applicable\n",
      "25/05/08 11:32:02 WARN SparkStringUtils: Truncated the string representation of a plan since it was too large. This behavior can be adjusted by setting 'spark.sql.debug.maxToStringFields'.\n"
     ]
    },
    {
     "name": "stdout",
     "output_type": "stream",
     "text": [
      "+-----------+----------+------------------+------------+---------+-----------------+------------------+------------------------------+-------------------------+----------------------+------------------------------+--------------------------+------------+-------------------------+------------------+-----------------+------------------+-----------------------+-------------------------------------+-----------------------+------------+--------+--------------------------------+---------------------------+-------------------+--------------+-----------------------------+----------------------------------+---------------------------+--------------------------+---------------------+------------------+----------------------------+-----------------------+--------------------+---------------+---------------------------+----------------------+------------------------------------+------------------------------+-----------------------------------------+----------+----------+----------+------------------------+----------+----------------+---------------------------------+----------------------------+---------------------+\n",
      "|    country|      date|agricultural_land%|forest_land%|land_area|avg_precipitation|trade_in_services%|control_of_corruption_estimate|control_of_corruption_std|access_to_electricity%|renewvable_energy_consumption%|electric_power_consumption|CO2_emisions|other_greenhouse_emisions|population_density|inflation_annual%|real_interest_rate|risk_premium_on_lending|research_and_development_expenditure%|central_goverment_debt%|tax_revenue%|expense%|goverment_effectiveness_estimate|goverment_effectiveness_std|human_capital_index|doing_business|time_to_get_operation_license|statistical_performance_indicators|individuals_using_internet%|logistic_performance_index|military_expenditure%|    GDP_current_US|political_stability_estimate|political_stability_std|rule_of_law_estimate|rule_of_law_std|regulatory_quality_estimate|regulatory_quality_std|government_expenditure_on_education%|government_health_expenditure%|multidimensional_poverty_headcount_ratio%|gini_index|birth_rate|death_rate|life_expectancy_at_birth|population|rural_population|voice_and_accountability_estimate|voice_and_accountability_std|intentional_homicides|\n",
      "+-----------+----------+------------------+------------+---------+-----------------+------------------+------------------------------+-------------------------+----------------------+------------------------------+--------------------------+------------+-------------------------+------------------+-----------------+------------------+-----------------------+-------------------------------------+-----------------------+------------+--------+--------------------------------+---------------------------+-------------------+--------------+-----------------------------+----------------------------------+---------------------------+--------------------------+---------------------+------------------+----------------------------+-----------------------+--------------------+---------------+---------------------------+----------------------+------------------------------------+------------------------------+-----------------------------------------+----------+----------+----------+------------------------+----------+----------------+---------------------------------+----------------------------+---------------------+\n",
      "|Afghanistan|1960-01-01|              NULL|        NULL|     NULL|             NULL|              NULL|                          NULL|                     NULL|                  NULL|                          NULL|                      NULL|        NULL|                     NULL|              NULL|             NULL|              NULL|                   NULL|                                 NULL|                   NULL|        NULL|    NULL|                            NULL|                       NULL|               NULL|          NULL|                         NULL|                              NULL|                       NULL|                      NULL|                 NULL|5.37777811111111E8|                        NULL|                   NULL|                NULL|           NULL|                       NULL|                  NULL|                                NULL|                          NULL|                                     NULL|      NULL|     50.34|    31.921|                  32.535| 8622466.0|       7898093.0|                             NULL|                        NULL|                 NULL|\n",
      "|Afghanistan|1961-01-01|   57.878355794735|        NULL| 652230.0|            327.0|              NULL|                          NULL|                     NULL|                  NULL|                          NULL|                      NULL|        NULL|                     NULL|  13.4770556398816|             NULL|              NULL|                   NULL|                                 NULL|                   NULL|        NULL|    NULL|                            NULL|                       NULL|               NULL|          NULL|                         NULL|                              NULL|                       NULL|                      NULL|                 NULL|5.48888895555556E8|                        NULL|                   NULL|                NULL|           NULL|                       NULL|                  NULL|                                NULL|                          NULL|                                     NULL|      NULL|    50.443|    31.349|                  33.068| 8790140.0|       8026804.0|                             NULL|                        NULL|                 NULL|\n",
      "|Afghanistan|1962-01-01|  57.9550158686353|        NULL| 652230.0|            327.0|              NULL|                          NULL|                     NULL|                  NULL|                          NULL|                      NULL|        NULL|                     NULL|  13.7513561167073|             NULL|              NULL|                   NULL|                                 NULL|                   NULL|        NULL|    NULL|                            NULL|                       NULL|               NULL|          NULL|                         NULL|                              NULL|                       NULL|                      NULL|                 NULL|5.46666677777778E8|                        NULL|                   NULL|                NULL|           NULL|                       NULL|                  NULL|                                NULL|                          NULL|                                     NULL|      NULL|     50.57|    30.845|                  33.547| 8969047.0|       8163985.0|                             NULL|                        NULL|                 NULL|\n",
      "|Afghanistan|1963-01-01|  58.0316759425356|        NULL| 652230.0|            327.0|              NULL|                          NULL|                     NULL|                  NULL|                          NULL|                      NULL|        NULL|                     NULL|  14.0402388727903|             NULL|              NULL|                   NULL|                                 NULL|                   NULL|        NULL|    NULL|                            NULL|                       NULL|               NULL|          NULL|                         NULL|                              NULL|                       NULL|                      NULL|                 NULL|7.51111191111111E8|                        NULL|                   NULL|                NULL|           NULL|                       NULL|                  NULL|                                NULL|                          NULL|                                     NULL|      NULL|    50.703|    30.359|                  34.016| 9157465.0|       8308019.0|                             NULL|                        NULL|                 NULL|\n",
      "|Afghanistan|1964-01-01|  58.1160020238259|        NULL| 652230.0|            327.0|              NULL|                          NULL|                     NULL|                  NULL|                          NULL|                      NULL|        NULL|                     NULL|  14.3438878923079|             NULL|              NULL|                   NULL|                                 NULL|                   NULL|        NULL|    NULL|                            NULL|                       NULL|               NULL|          NULL|                         NULL|                              NULL|                       NULL|                      NULL|                 NULL|8.00000044444444E8|                        NULL|                   NULL|                NULL|           NULL|                       NULL|                  NULL|                                NULL|                          NULL|                                     NULL|      NULL|    50.831|    29.867|                  34.494| 9355514.0|       8458694.0|                             NULL|                        NULL|                 NULL|\n",
      "+-----------+----------+------------------+------------+---------+-----------------+------------------+------------------------------+-------------------------+----------------------+------------------------------+--------------------------+------------+-------------------------+------------------+-----------------+------------------+-----------------------+-------------------------------------+-----------------------+------------+--------+--------------------------------+---------------------------+-------------------+--------------+-----------------------------+----------------------------------+---------------------------+--------------------------+---------------------+------------------+----------------------------+-----------------------+--------------------+---------------+---------------------------+----------------------+------------------------------------+------------------------------+-----------------------------------------+----------+----------+----------+------------------------+----------+----------------+---------------------------------+----------------------------+---------------------+\n",
      "only showing top 5 rows\n",
      "\n",
      "root\n",
      " |-- country: string (nullable = true)\n",
      " |-- date: date (nullable = true)\n",
      " |-- agricultural_land%: double (nullable = true)\n",
      " |-- forest_land%: double (nullable = true)\n",
      " |-- land_area: double (nullable = true)\n",
      " |-- avg_precipitation: double (nullable = true)\n",
      " |-- trade_in_services%: double (nullable = true)\n",
      " |-- control_of_corruption_estimate: double (nullable = true)\n",
      " |-- control_of_corruption_std: double (nullable = true)\n",
      " |-- access_to_electricity%: double (nullable = true)\n",
      " |-- renewvable_energy_consumption%: double (nullable = true)\n",
      " |-- electric_power_consumption: double (nullable = true)\n",
      " |-- CO2_emisions: double (nullable = true)\n",
      " |-- other_greenhouse_emisions: double (nullable = true)\n",
      " |-- population_density: double (nullable = true)\n",
      " |-- inflation_annual%: double (nullable = true)\n",
      " |-- real_interest_rate: double (nullable = true)\n",
      " |-- risk_premium_on_lending: double (nullable = true)\n",
      " |-- research_and_development_expenditure%: double (nullable = true)\n",
      " |-- central_goverment_debt%: double (nullable = true)\n",
      " |-- tax_revenue%: double (nullable = true)\n",
      " |-- expense%: double (nullable = true)\n",
      " |-- goverment_effectiveness_estimate: double (nullable = true)\n",
      " |-- goverment_effectiveness_std: double (nullable = true)\n",
      " |-- human_capital_index: double (nullable = true)\n",
      " |-- doing_business: double (nullable = true)\n",
      " |-- time_to_get_operation_license: double (nullable = true)\n",
      " |-- statistical_performance_indicators: double (nullable = true)\n",
      " |-- individuals_using_internet%: double (nullable = true)\n",
      " |-- logistic_performance_index: double (nullable = true)\n",
      " |-- military_expenditure%: double (nullable = true)\n",
      " |-- GDP_current_US: double (nullable = true)\n",
      " |-- political_stability_estimate: double (nullable = true)\n",
      " |-- political_stability_std: double (nullable = true)\n",
      " |-- rule_of_law_estimate: double (nullable = true)\n",
      " |-- rule_of_law_std: double (nullable = true)\n",
      " |-- regulatory_quality_estimate: double (nullable = true)\n",
      " |-- regulatory_quality_std: double (nullable = true)\n",
      " |-- government_expenditure_on_education%: double (nullable = true)\n",
      " |-- government_health_expenditure%: double (nullable = true)\n",
      " |-- multidimensional_poverty_headcount_ratio%: double (nullable = true)\n",
      " |-- gini_index: double (nullable = true)\n",
      " |-- birth_rate: double (nullable = true)\n",
      " |-- death_rate: double (nullable = true)\n",
      " |-- life_expectancy_at_birth: double (nullable = true)\n",
      " |-- population: double (nullable = true)\n",
      " |-- rural_population: double (nullable = true)\n",
      " |-- voice_and_accountability_estimate: double (nullable = true)\n",
      " |-- voice_and_accountability_std: double (nullable = true)\n",
      " |-- intentional_homicides: double (nullable = true)\n",
      "\n",
      "Total rows: 17272\n"
     ]
    }
   ],
   "source": [
    "spark = SparkSession.builder.appName(\"WorldBankIndicators\").getOrCreate()\n",
    "df = spark.read.csv(\"data/world_bank_development_indicators.csv\", header=True, inferSchema=True)\n",
    "df.show(5) \n",
    "df.printSchema()\n",
    "\n",
    "print(\"Total rows:\", df.count())"
   ]
  },
  {
   "cell_type": "markdown",
   "id": "94bf8cf0-7b8f-4296-8f65-12dcf17ab139",
   "metadata": {},
   "source": [
    "### 1.2 Checking for missing data: \n",
    "- drop columns with too many null values"
   ]
  },
  {
   "cell_type": "code",
   "execution_count": 8,
   "id": "f90fb62f-9db6-406f-869d-f7a1e71d3e74",
   "metadata": {},
   "outputs": [
    {
     "name": "stdout",
     "output_type": "stream",
     "text": [
      "+-------+----+------------------+------------+---------+-----------------+------------------+------------------------------+-------------------------+----------------------+------------------------------+--------------------------+------------+-------------------------+------------------+-----------------+------------------+-----------------------+-------------------------------------+-----------------------+------------+--------+--------------------------------+---------------------------+-------------------+--------------+-----------------------------+----------------------------------+---------------------------+--------------------------+---------------------+--------------+----------------------------+-----------------------+--------------------+---------------+---------------------------+----------------------+------------------------------------+------------------------------+-----------------------------------------+----------+----------+----------+------------------------+----------+----------------+---------------------------------+----------------------------+---------------------+\n",
      "|country|date|agricultural_land%|forest_land%|land_area|avg_precipitation|trade_in_services%|control_of_corruption_estimate|control_of_corruption_std|access_to_electricity%|renewvable_energy_consumption%|electric_power_consumption|CO2_emisions|other_greenhouse_emisions|population_density|inflation_annual%|real_interest_rate|risk_premium_on_lending|research_and_development_expenditure%|central_goverment_debt%|tax_revenue%|expense%|goverment_effectiveness_estimate|goverment_effectiveness_std|human_capital_index|doing_business|time_to_get_operation_license|statistical_performance_indicators|individuals_using_internet%|logistic_performance_index|military_expenditure%|GDP_current_US|political_stability_estimate|political_stability_std|rule_of_law_estimate|rule_of_law_std|regulatory_quality_estimate|regulatory_quality_std|government_expenditure_on_education%|government_health_expenditure%|multidimensional_poverty_headcount_ratio%|gini_index|birth_rate|death_rate|life_expectancy_at_birth|population|rural_population|voice_and_accountability_estimate|voice_and_accountability_std|intentional_homicides|\n",
      "+-------+----+------------------+------------+---------+-----------------+------------------+------------------------------+-------------------------+----------------------+------------------------------+--------------------------+------------+-------------------------+------------------+-----------------+------------------+-----------------------+-------------------------------------+-----------------------+------------+--------+--------------------------------+---------------------------+-------------------+--------------+-----------------------------+----------------------------------+---------------------------+--------------------------+---------------------+--------------+----------------------------+-----------------------+--------------------+---------------+---------------------------+----------------------+------------------------------------+------------------------------+-----------------------------------------+----------+----------+----------+------------------------+----------+----------------+---------------------------------+----------------------------+---------------------+\n",
      "|0      |0   |2558              |9096        |2342     |7186             |8077              |12489                         |12489                    |9924                  |9196                          |9482                      |9864        |9864                     |2371              |6484             |12856             |14902                  |14383                                |15192                  |12147       |12503   |12513                           |12513                      |16671              |17083         |16901                        |16035                             |9228                       |15865                     |7150                 |4074          |12452                       |12452                  |12399               |12399          |12511                      |12511                 |11165                               |12334                         |16817                                    |15164     |1235      |1253      |1406                    |607       |733             |12422                            |12422                       |13063                |\n",
      "+-------+----+------------------+------------+---------+-----------------+------------------+------------------------------+-------------------------+----------------------+------------------------------+--------------------------+------------+-------------------------+------------------+-----------------+------------------+-----------------------+-------------------------------------+-----------------------+------------+--------+--------------------------------+---------------------------+-------------------+--------------+-----------------------------+----------------------------------+---------------------------+--------------------------+---------------------+--------------+----------------------------+-----------------------+--------------------+---------------+---------------------------+----------------------+------------------------------------+------------------------------+-----------------------------------------+----------+----------+----------+------------------------+----------+----------------+---------------------------------+----------------------------+---------------------+\n",
      "\n"
     ]
    }
   ],
   "source": [
    "from pyspark.sql.functions import col, isnan, when, count\n",
    "\n",
    "df.select([\n",
    "    count(when(col(c).isNull(), c)).alias(c) for c in df.columns\n",
    "]).show(n=1, truncate=False)"
   ]
  },
  {
   "cell_type": "markdown",
   "id": "bea2bbd3-34f5-4d96-99af-a2b6c4922837",
   "metadata": {},
   "source": [
    "### 1.3 Filter & Clean Key Columns \n",
    "- keep rows with valid GDP, life expectancy, etc. for erarly analysis"
   ]
  },
  {
   "cell_type": "code",
   "execution_count": 10,
   "id": "39ab26ba-d939-4159-b520-c330375a0b6d",
   "metadata": {},
   "outputs": [],
   "source": [
    "df_filtered = df.filter(\n",
    "    col(\"GDP_current_US\").isNotNull() &\n",
    "    col(\"life_expectancy_at_birth\").isNotNull() &\n",
    "    col(\"access_to_electricity%\").isNotNull()\n",
    ")"
   ]
  },
  {
   "cell_type": "markdown",
   "id": "12efa52b-b8a2-4e66-a77f-ff33fe3e11a7",
   "metadata": {},
   "source": [
    "Convert Date Column to Year "
   ]
  },
  {
   "cell_type": "code",
   "execution_count": 12,
   "id": "b5a72246-cfa4-4eae-852c-3b59599ee6a5",
   "metadata": {},
   "outputs": [],
   "source": [
    "from pyspark.sql.functions import year\n",
    "df_filtered = df_filtered.withColumn(\"year\", year(\"date\"))"
   ]
  },
  {
   "cell_type": "code",
   "execution_count": 14,
   "id": "cacf3b9c-7430-4156-8a37-b788e3edf2f2",
   "metadata": {},
   "outputs": [
    {
     "name": "stdout",
     "output_type": "stream",
     "text": [
      "root\n",
      " |-- country: string (nullable = true)\n",
      " |-- date: date (nullable = true)\n",
      " |-- agricultural_land%: double (nullable = true)\n",
      " |-- forest_land%: double (nullable = true)\n",
      " |-- land_area: double (nullable = true)\n",
      " |-- avg_precipitation: double (nullable = true)\n",
      " |-- trade_in_services%: double (nullable = true)\n",
      " |-- control_of_corruption_estimate: double (nullable = true)\n",
      " |-- control_of_corruption_std: double (nullable = true)\n",
      " |-- access_to_electricity%: double (nullable = true)\n",
      " |-- renewvable_energy_consumption%: double (nullable = true)\n",
      " |-- electric_power_consumption: double (nullable = true)\n",
      " |-- CO2_emisions: double (nullable = true)\n",
      " |-- other_greenhouse_emisions: double (nullable = true)\n",
      " |-- population_density: double (nullable = true)\n",
      " |-- inflation_annual%: double (nullable = true)\n",
      " |-- real_interest_rate: double (nullable = true)\n",
      " |-- risk_premium_on_lending: double (nullable = true)\n",
      " |-- research_and_development_expenditure%: double (nullable = true)\n",
      " |-- central_goverment_debt%: double (nullable = true)\n",
      " |-- tax_revenue%: double (nullable = true)\n",
      " |-- expense%: double (nullable = true)\n",
      " |-- goverment_effectiveness_estimate: double (nullable = true)\n",
      " |-- goverment_effectiveness_std: double (nullable = true)\n",
      " |-- human_capital_index: double (nullable = true)\n",
      " |-- doing_business: double (nullable = true)\n",
      " |-- time_to_get_operation_license: double (nullable = true)\n",
      " |-- statistical_performance_indicators: double (nullable = true)\n",
      " |-- individuals_using_internet%: double (nullable = true)\n",
      " |-- logistic_performance_index: double (nullable = true)\n",
      " |-- military_expenditure%: double (nullable = true)\n",
      " |-- GDP_current_US: double (nullable = true)\n",
      " |-- political_stability_estimate: double (nullable = true)\n",
      " |-- political_stability_std: double (nullable = true)\n",
      " |-- rule_of_law_estimate: double (nullable = true)\n",
      " |-- rule_of_law_std: double (nullable = true)\n",
      " |-- regulatory_quality_estimate: double (nullable = true)\n",
      " |-- regulatory_quality_std: double (nullable = true)\n",
      " |-- government_expenditure_on_education%: double (nullable = true)\n",
      " |-- government_health_expenditure%: double (nullable = true)\n",
      " |-- multidimensional_poverty_headcount_ratio%: double (nullable = true)\n",
      " |-- gini_index: double (nullable = true)\n",
      " |-- birth_rate: double (nullable = true)\n",
      " |-- death_rate: double (nullable = true)\n",
      " |-- life_expectancy_at_birth: double (nullable = true)\n",
      " |-- population: double (nullable = true)\n",
      " |-- rural_population: double (nullable = true)\n",
      " |-- voice_and_accountability_estimate: double (nullable = true)\n",
      " |-- voice_and_accountability_std: double (nullable = true)\n",
      " |-- intentional_homicides: double (nullable = true)\n",
      " |-- year: integer (nullable = true)\n",
      "\n",
      "+-----------+----------+------------------+----------------+---------+-----------------+------------------+------------------------------+-------------------------+----------------------+------------------------------+--------------------------+------------+-------------------------+------------------+-----------------+------------------+-----------------------+-------------------------------------+-----------------------+----------------+----------------+--------------------------------+---------------------------+-------------------+--------------+-----------------------------+----------------------------------+---------------------------+--------------------------+---------------------+------------------+----------------------------+-----------------------+--------------------+-----------------+---------------------------+----------------------+------------------------------------+------------------------------+-----------------------------------------+----------+----------+----------+------------------------+-----------+----------------+---------------------------------+----------------------------+---------------------+----+\n",
      "|    country|      date|agricultural_land%|    forest_land%|land_area|avg_precipitation|trade_in_services%|control_of_corruption_estimate|control_of_corruption_std|access_to_electricity%|renewvable_energy_consumption%|electric_power_consumption|CO2_emisions|other_greenhouse_emisions|population_density|inflation_annual%|real_interest_rate|risk_premium_on_lending|research_and_development_expenditure%|central_goverment_debt%|    tax_revenue%|        expense%|goverment_effectiveness_estimate|goverment_effectiveness_std|human_capital_index|doing_business|time_to_get_operation_license|statistical_performance_indicators|individuals_using_internet%|logistic_performance_index|military_expenditure%|    GDP_current_US|political_stability_estimate|political_stability_std|rule_of_law_estimate|  rule_of_law_std|regulatory_quality_estimate|regulatory_quality_std|government_expenditure_on_education%|government_health_expenditure%|multidimensional_poverty_headcount_ratio%|gini_index|birth_rate|death_rate|life_expectancy_at_birth| population|rural_population|voice_and_accountability_estimate|voice_and_accountability_std|intentional_homicides|year|\n",
      "+-----------+----------+------------------+----------------+---------+-----------------+------------------+------------------------------+-------------------------+----------------------+------------------------------+--------------------------+------------+-------------------------+------------------+-----------------+------------------+-----------------------+-------------------------------------+-----------------------+----------------+----------------+--------------------------------+---------------------------+-------------------+--------------+-----------------------------+----------------------------------+---------------------------+--------------------------+---------------------+------------------+----------------------------+-----------------------+--------------------+-----------------+---------------------------+----------------------+------------------------------------+------------------------------+-----------------------------------------+----------+----------+----------+------------------------+-----------+----------------+---------------------------------+----------------------------+---------------------+----+\n",
      "|Afghanistan|2002-01-01|  57.9396838538552|1.85278199408184| 652230.0|            327.0|              NULL|             -1.25113701820374|        0.352838128805161|      14.1336164474487|                         37.83|                      NULL|     1403.03|              15255.39353|  32.1976235377091|             NULL|              NULL|                   NULL|                                 NULL|                   NULL|            NULL|            NULL|               -1.58768701553345|          0.259350627660751|               NULL|          NULL|                         NULL|                              NULL|                0.004561395|                      NULL|                 NULL|3.82570140551958E9|           -2.03503370285034|      0.436297506093979|   -1.67347323894501|0.296793252229691|          -1.81154572963715|     0.301608979701996|                                NULL|                    0.08418062|                                     NULL|      NULL|    48.201|     11.28|                  56.454|2.1000256E7|     1.6325389E7|                -1.43342101573944|           0.189453408122063|                 NULL|2002|\n",
      "|Afghanistan|2003-01-01|  58.0838047927878|1.85278199408184| 652230.0|            327.0|              NULL|             -1.34417974948883|        0.270214706659317|      18.9711647033691|                         36.66|                      NULL|    1653.207|               15961.0327|  34.7195467856431|             NULL|              NULL|                   NULL|                                 NULL|                   NULL|            NULL|            NULL|               -1.17576801776886|          0.298997640609741|               NULL|          NULL|                         NULL|                              NULL|                0.087891253|                      NULL|                 NULL|4.52094684932079E9|           -2.19837236404419|      0.349641561508179|    -1.5582937002182|0.300880134105682|          -1.46310782432556|     0.235744684934616|                                NULL|                    0.65096337|                                     NULL|      NULL|     47.35|    10.698|                  57.344| 2.264513E7|     1.7583264E7|                 -1.1775711774826|           0.207045421004295|                 NULL|2003|\n",
      "|Afghanistan|2004-01-01|  58.1512656578201|1.85278199408184| 652230.0|            327.0|              NULL|             -1.35064733028412|        0.213201358914375|      23.8141822814941|                         44.24|                      NULL|    1292.307|              15572.01238|   36.112339205495|             NULL|              NULL|                   NULL|                                 NULL|                   NULL|            NULL|            NULL|              -0.945146262645721|          0.235708385705948|               NULL|          NULL|                         NULL|                              NULL|                 0.10580903|                      NULL|     2.43125378739118|5.22489671867782E9|           -2.29568219184875|      0.304597765207291|    -1.6939252614975| 0.21454069018364|          -1.51154899597168|     0.224410235881805|                                NULL|                    0.54292566|                                     NULL|      NULL|     46.33|    10.277|                  57.944|2.3553551E7|     1.8254002E7|                -1.20303392410278|            0.17559015750885|                 NULL|2004|\n",
      "|Afghanistan|2005-01-01|   58.134400441562|1.85278199408184| 652230.0|            327.0|              NULL|             -1.44725239276886|        0.207366138696671|      28.6696720123291|                         33.88|                      NULL|    1961.711|              16635.76076|  37.4272741210923| 12.6862687216715|              NULL|                   NULL|                                 NULL|                   NULL|            NULL|            NULL|                -1.2288156747818|          0.220314458012581|               NULL|          NULL|                         NULL|                              NULL|                1.224148084|                      NULL|     1.99206569856085|6.20325649709044E9|           -2.06750988960266|      0.303332567214966|   -1.66296553611755|0.205631986260414|          -1.64344024658203|     0.183133482933044|                                NULL|                     0.5291841|                                     NULL|      NULL|    45.263|     9.941|                  58.361|2.4411191E7|     1.8869118E7|                -1.12542963027954|           0.173295274376869|                 NULL|2005|\n",
      "|Afghanistan|2006-01-01|   58.123668031216|1.85278199408184| 652230.0|            327.0|              NULL|             -1.44629228115082|        0.207394152879715|      33.5444183349609|                         31.89|                      NULL|     2283.68|              17264.16633|  39.0091593456296| 6.78459655001657|  10.0468971069497|                   NULL|                                 NULL|                   NULL|6.96759757507017|20.5781737687622|               -1.47365152835846|          0.263611018657684|               NULL|          NULL|                         NULL|                              NULL|                2.107123645|                      NULL|     1.89623399634252|6.97175833288917E9|           -2.21913456916809|       0.28942021727562|   -1.87900483608246|0.201253980398178|          -1.68946862220764|     0.218019515275955|                    4.68476057052612|                    0.49784002|                                     NULL|      NULL|    44.721|     9.679|                  58.684|2.5442944E7|     1.9614729E7|                -1.11029398441315|           0.150166392326355|                 NULL|2006|\n",
      "+-----------+----------+------------------+----------------+---------+-----------------+------------------+------------------------------+-------------------------+----------------------+------------------------------+--------------------------+------------+-------------------------+------------------+-----------------+------------------+-----------------------+-------------------------------------+-----------------------+----------------+----------------+--------------------------------+---------------------------+-------------------+--------------+-----------------------------+----------------------------------+---------------------------+--------------------------+---------------------+------------------+----------------------------+-----------------------+--------------------+-----------------+---------------------------+----------------------+------------------------------------+------------------------------+-----------------------------------------+----------+----------+----------+------------------------+-----------+----------------+---------------------------------+----------------------------+---------------------+----+\n",
      "only showing top 5 rows\n",
      "\n"
     ]
    }
   ],
   "source": [
    "df_filtered.cache()\n",
    "df_filtered.printSchema()\n",
    "df_filtered.show(5)"
   ]
  },
  {
   "cell_type": "markdown",
   "id": "bdf5560b-d1ee-4567-ae26-4f824f70cd62",
   "metadata": {},
   "source": [
    "-----"
   ]
  },
  {
   "cell_type": "markdown",
   "id": "ae3b5278-4a78-49f1-a5dd-1e31dcf6c934",
   "metadata": {},
   "source": [
    "## 2. Feature Selection & Vector Assembly \n",
    "\n",
    "In this section we identify a small set of well‐distributed development indicators to use for clustering.  \n",
    "We first inspect and drop any rows with missing values in our chosen variables, then assemble them into a single feature vector (`features`) that Spark ML can consume.  \n",
    "This prepares the data for the subsequent scaling and K-Means clustering steps.  \n"
   ]
  },
  {
   "cell_type": "code",
   "execution_count": 16,
   "id": "ace3864d-78e9-41d6-a390-5bbb744aee54",
   "metadata": {},
   "outputs": [],
   "source": [
    "#selecting some well-distributed development indicators for clustering \n",
    "feature_cols = [\n",
    "    \"GDP_current_US\",\n",
    "    \"life_expectancy_at_birth\",\n",
    "    \"access_to_electricity%\",\n",
    "    \"government_expenditure_on_education%\",\n",
    "    \"individuals_using_internet%\",\n",
    "    \"gini_index\",\n",
    "    \"population_density\",\n",
    "    \"government_health_expenditure%\"\n",
    "]"
   ]
  },
  {
   "cell_type": "code",
   "execution_count": 18,
   "id": "25360f8a-34be-432a-9815-b65ee03ede41",
   "metadata": {},
   "outputs": [],
   "source": [
    "# assembling features into a vector \n",
    "assembler = VectorAssembler(inputCols=feature_cols, outputCol=\"features\")\n",
    "df_with_features = assembler.transform(df_filtered)\n",
    "df_with_features = df_with_features.select(\"country\", \"year\", \"features\")"
   ]
  },
  {
   "cell_type": "code",
   "execution_count": 20,
   "id": "73a3d9d7-2f92-42c3-85f0-1b97d9117c66",
   "metadata": {},
   "outputs": [],
   "source": [
    "df_2020 = df_with_features.filter(col(\"year\") == 2020)"
   ]
  },
  {
   "cell_type": "code",
   "execution_count": 22,
   "id": "d32b0993-d233-4cfc-bd42-7a6e60288bf8",
   "metadata": {},
   "outputs": [
    {
     "name": "stdout",
     "output_type": "stream",
     "text": [
      "+--------------+------------------------+----------------------+------------------------------------+---------------------------+----------+------------------+------------------------------+\n",
      "|GDP_current_US|life_expectancy_at_birth|access_to_electricity%|government_expenditure_on_education%|individuals_using_internet%|gini_index|population_density|government_health_expenditure%|\n",
      "+--------------+------------------------+----------------------+------------------------------------+---------------------------+----------+------------------+------------------------------+\n",
      "|             0|                       0|                     0|                                2237|                        254|      4991|                53|                          1999|\n",
      "+--------------+------------------------+----------------------+------------------------------------+---------------------------+----------+------------------+------------------------------+\n",
      "\n"
     ]
    }
   ],
   "source": [
    "df_filtered.select([\n",
    "    count(when(col(c).isNull(), c)).alias(c) for c in feature_cols\n",
    "]).show()"
   ]
  },
  {
   "cell_type": "code",
   "execution_count": 24,
   "id": "d81ef720-b92a-49a2-bd49-e14770ffb279",
   "metadata": {},
   "outputs": [],
   "source": [
    "df_filtered_clean = df_filtered.dropna(subset=feature_cols)"
   ]
  },
  {
   "cell_type": "code",
   "execution_count": 26,
   "id": "f544804e-da08-4148-9a61-1d65f6f5eb6f",
   "metadata": {},
   "outputs": [],
   "source": [
    "df_with_features = assembler.transform(df_filtered_clean)\n",
    "df_with_features = df_with_features.select(\"country\", \"year\", \"features\")\n",
    "df_2020 = df_with_features.filter(col(\"year\") == 2020) "
   ]
  },
  {
   "cell_type": "code",
   "execution_count": 28,
   "id": "34384492-2b03-4e5c-9a01-46eb3f27088c",
   "metadata": {},
   "outputs": [],
   "source": [
    "scaler = StandardScaler(inputCol=\"features\", outputCol=\"scaled_features\", withStd=True, withMean=True)\n",
    "scaler_model = scaler.fit(df_2020)\n",
    "df_scaled = scaler_model.transform(df_2020)"
   ]
  },
  {
   "cell_type": "code",
   "execution_count": 30,
   "id": "05b645d0-24ce-4e74-a0a2-778037c66c22",
   "metadata": {},
   "outputs": [
    {
     "name": "stdout",
     "output_type": "stream",
     "text": [
      "+---------+-------------------------------------------------------------------------------------------------------------------------------------------------------------------+\n",
      "|country  |scaled_features                                                                                                                                                    |\n",
      "+---------+-------------------------------------------------------------------------------------------------------------------------------------------------------------------+\n",
      "|Albania  |[-0.30979996500054974,0.19909277470310377,0.2534652505266589,-1.1986460979901048,-0.26436091969878883,-0.8033122180179841,-0.19688969999465378,-0.9657165205825639]|\n",
      "|Argentina|[-0.19482606596741842,0.005502848094597517,0.2534652505266589,0.3874259315685856,0.46111187978821144,1.0974374375849651,-0.5849098801028539,0.5948537149505484]    |\n",
      "|Armenia  |[-0.3105821308918184,-0.6507970033703324,0.2534652505266589,-1.7199357632183663,-0.031036096715305713,-1.4178403021602903,-0.2193037816998619,-1.2106301399064492] |\n",
      "|Austria  |[-0.17952772276851847,0.9409256546395751,0.2534652505266589,0.6243285612148055,0.5712188259358171,-0.7461468148419552,-0.17688045223907056,1.504698649633015]      |\n",
      "|Belarus  |[-0.29546334878065106,-0.6006401806660906,0.2534652505266589,0.04603391282298283,0.4378082669887686,-1.5178797577183407,-0.45274376137989947,-0.2849119965372576]  |\n",
      "+---------+-------------------------------------------------------------------------------------------------------------------------------------------------------------------+\n",
      "only showing top 5 rows\n",
      "\n"
     ]
    }
   ],
   "source": [
    "df_scaled.select(\"country\", \"scaled_features\").show(5, truncate=False)"
   ]
  },
  {
   "cell_type": "markdown",
   "id": "a1110b7b-f5e0-4022-936e-6e89dc2deb78",
   "metadata": {},
   "source": [
    "## 3. KMeans Clustering\n",
    "Here we apply K-Means clustering to the scaled feature vectors in order to segment countries into development tiers. We first fit the model with an arbitrary k, evaluate its silhouette score to gauge cohesion and separation, then sweep k from 2 to 8 to identify the optimal number of clusters.\n"
   ]
  },
  {
   "cell_type": "code",
   "execution_count": 32,
   "id": "f8504082-c617-4919-9edc-10e9f0515ce1",
   "metadata": {},
   "outputs": [
    {
     "name": "stderr",
     "output_type": "stream",
     "text": [
      "25/05/08 11:32:38 WARN InstanceBuilder: Failed to load implementation from:dev.ludovic.netlib.blas.JNIBLAS\n"
     ]
    }
   ],
   "source": [
    "from pyspark.ml.clustering import KMeans\n",
    "kmeans = KMeans(featuresCol=\"scaled_features\", predictionCol=\"cluster\", k=4, seed=42)\n",
    "model = kmeans.fit(df_scaled)\n",
    "df_cluster = model.transform(df_scaled)"
   ]
  },
  {
   "cell_type": "code",
   "execution_count": 34,
   "id": "b6612844-79f6-49e9-b296-6001c072549d",
   "metadata": {},
   "outputs": [
    {
     "name": "stdout",
     "output_type": "stream",
     "text": [
      "+------------------+-------+\n",
      "|country           |cluster|\n",
      "+------------------+-------+\n",
      "|Albania           |3      |\n",
      "|Argentina         |1      |\n",
      "|Armenia           |3      |\n",
      "|Austria           |0      |\n",
      "|Belarus           |0      |\n",
      "|Belgium           |0      |\n",
      "|Bolivia           |1      |\n",
      "|Brazil            |1      |\n",
      "|Bulgaria          |3      |\n",
      "|Burundi           |3      |\n",
      "|Chile             |1      |\n",
      "|China             |2      |\n",
      "|Colombia          |1      |\n",
      "|Congo, Dem. Rep.  |3      |\n",
      "|Costa Rica        |1      |\n",
      "|Croatia           |0      |\n",
      "|Cyprus            |0      |\n",
      "|Czechia           |0      |\n",
      "|Denmark           |0      |\n",
      "|Dominican Republic|3      |\n",
      "+------------------+-------+\n",
      "only showing top 20 rows\n",
      "\n"
     ]
    }
   ],
   "source": [
    "df_cluster.select(\"country\", \"cluster\").show(20, truncate=False)"
   ]
  },
  {
   "cell_type": "code",
   "execution_count": 36,
   "id": "da22be25-8cbb-4498-a53c-8f542421ba85",
   "metadata": {},
   "outputs": [
    {
     "name": "stdout",
     "output_type": "stream",
     "text": [
      "Silhouette score = 0.2793\n"
     ]
    }
   ],
   "source": [
    "from pyspark.ml.evaluation import ClusteringEvaluator\n",
    "\n",
    "evaluator = ClusteringEvaluator(\n",
    "    featuresCol=\"scaled_features\",\n",
    "    predictionCol=\"cluster\", \n",
    "    metricName=\"silhouette\",\n",
    "    distanceMeasure=\"squaredEuclidean\"\n",
    ")\n",
    "silhouette = evaluator.evaluate(df_cluster)\n",
    "print(f\"Silhouette score = {silhouette:.4f}\")"
   ]
  },
  {
   "cell_type": "markdown",
   "id": "515ada00-b2d9-4812-a4ef-e9f65933980e",
   "metadata": {},
   "source": [
    "the silhouette score is a measure of how well the data has been clustered, combining cohesion and separation\n",
    "0.2793 is meaningful as it is above 0, however, under 0.5 indicates moderate separation and frequent overlap "
   ]
  },
  {
   "cell_type": "code",
   "execution_count": 38,
   "id": "26b60074-dd85-478f-af6d-3041411f8551",
   "metadata": {},
   "outputs": [
    {
     "name": "stdout",
     "output_type": "stream",
     "text": [
      "k=2: silhouette=0.7363\n",
      "k=3: silhouette=0.7012\n",
      "k=4: silhouette=0.2793\n",
      "k=5: silhouette=0.4350\n",
      "k=6: silhouette=0.4480\n",
      "k=7: silhouette=0.2899\n",
      "k=8: silhouette=0.3108\n"
     ]
    }
   ],
   "source": [
    "scores = [] \n",
    "for k in range (2, 9):\n",
    "    km = KMeans(featuresCol=\"scaled_features\", k=k, seed=42)\n",
    "    mdl = km.fit(df_scaled)\n",
    "    preds = mdl.transform(df_scaled)\n",
    "    ev = ClusteringEvaluator(\n",
    "        featuresCol=\"scaled_features\",\n",
    "        predictionCol=km.getPredictionCol(), \n",
    "        metricName=\"silhouette\"\n",
    "    )\n",
    "    score = ev.evaluate(preds)\n",
    "    scores.append((k, score))\n",
    "\n",
    "for k, s in scores:\n",
    "    print(f\"k={k}: silhouette={s:.4f}\")"
   ]
  },
  {
   "cell_type": "markdown",
   "id": "d1e63aa0-53dc-4988-8900-8cd2d81cb6b2",
   "metadata": {},
   "source": [
    "the silhouette curve indicates the k=2 is the best option "
   ]
  },
  {
   "cell_type": "code",
   "execution_count": 75,
   "id": "e6634836-2695-45f6-8582-6efe5264224b",
   "metadata": {},
   "outputs": [],
   "source": [
    "raw_2020 = df_filtered_clean.filter(col(\"year\") == 2020)"
   ]
  },
  {
   "cell_type": "code",
   "execution_count": 77,
   "id": "9f9d5ae5-8adc-4fdb-9a42-3b0576fb4b72",
   "metadata": {},
   "outputs": [
    {
     "name": "stdout",
     "output_type": "stream",
     "text": [
      "root\n",
      " |-- country: string (nullable = true)\n",
      " |-- year: integer (nullable = true)\n",
      " |-- features: vector (nullable = true)\n",
      " |-- scaled_features: vector (nullable = true)\n",
      " |-- cluster: integer (nullable = false)\n",
      "\n",
      "+---------+-------+\n",
      "|country  |cluster|\n",
      "+---------+-------+\n",
      "|Albania  |0      |\n",
      "|Argentina|0      |\n",
      "|Armenia  |0      |\n",
      "|Austria  |0      |\n",
      "|Belarus  |0      |\n",
      "+---------+-------+\n",
      "only showing top 5 rows\n",
      "\n",
      "+-------+--------------------+-----------------------------+---------------------------+------------------+\n",
      "|cluster| avg(GDP_current_US)|avg(life_expectancy_at_birth)|avg(access_to_electricity%)|   avg(gini_index)|\n",
      "+-------+--------------------+-----------------------------+---------------------------+------------------+\n",
      "|      1|3.845907969082704E10|           61.647999999999996|         40.725123786926304|              39.3|\n",
      "|      0|1.080951102375658...|            76.84101177460052|          99.71386902907797|34.725862068965526|\n",
      "+-------+--------------------+-----------------------------+---------------------------+------------------+\n",
      "\n"
     ]
    }
   ],
   "source": [
    "best_k = 2\n",
    "km = KMeans(featuresCol=\"scaled_features\", k=best_k, seed=42)\n",
    "model = km.fit(df_scaled)\n",
    "\n",
    "df_cluster = model.transform(df_scaled)\n",
    "df_cluster = df_cluster.withColumnRenamed(\"prediction\", \"cluster\")\n",
    "\n",
    "df_cluster.printSchema()\n",
    "df_cluster.select(\"country\", \"cluster\").show(5, truncate=False)\n",
    "\n",
    "df_profile = df_cluster.join(raw_2020, on=\"country\", how=\"inner\")\n",
    "df_profile.groupBy(\"cluster\").avg(\n",
    "    \"GDP_current_US\", \n",
    "    \"life_expectancy_at_birth\", \n",
    "    \"access_to_electricity%\", \n",
    "    \"gini_index\"\n",
    ").show()\n"
   ]
  },
  {
   "cell_type": "markdown",
   "id": "42ec6ed9-fc4f-4cae-b321-41d4a302d900",
   "metadata": {},
   "source": [
    "## 4. Forecasting Module\n",
    "In this section we prepare time-series data for two forecasting tasks (GDP and life expectancy).  \n",
    "1. **Lag creation**: We partition by country and order by year, then create one-year lag features for GDP (`GDP_lag1`) and life expectancy (`lifeExp_lag1`), filtering out any rows with missing lags.  \n",
    "2. **Train/test split**: We split the lagged DataFrame at year 2015 to create out-of-sample test sets.  \n",
    "3. **Model fitting**: We fit separate linear regression models—first to predict next-year GDP, then next-year life expectancy—evaluating each with RMSE and R².  \n"
   ]
  },
  {
   "cell_type": "code",
   "execution_count": 42,
   "id": "f1360510-85cd-4c79-8eeb-a44a602dbc1f",
   "metadata": {},
   "outputs": [
    {
     "name": "stdout",
     "output_type": "stream",
     "text": [
      "+-------+----------+------------------+----------------+---------+-----------------+------------------+------------------------------+-------------------------+----------------------+------------------------------+--------------------------+------------+-------------------------+------------------+-----------------+------------------+-----------------------+-------------------------------------+-----------------------+----------------+----------------+--------------------------------+---------------------------+-------------------+--------------+-----------------------------+----------------------------------+---------------------------+--------------------------+---------------------+-------------------+----------------------------+-----------------------+--------------------+-----------------+---------------------------+----------------------+------------------------------------+------------------------------+-----------------------------------------+----------+----------+----------+------------------------+----------+----------------+---------------------------------+----------------------------+---------------------+----+-------------------+------------+\n",
      "|country|      date|agricultural_land%|    forest_land%|land_area|avg_precipitation|trade_in_services%|control_of_corruption_estimate|control_of_corruption_std|access_to_electricity%|renewvable_energy_consumption%|electric_power_consumption|CO2_emisions|other_greenhouse_emisions|population_density|inflation_annual%|real_interest_rate|risk_premium_on_lending|research_and_development_expenditure%|central_goverment_debt%|    tax_revenue%|        expense%|goverment_effectiveness_estimate|goverment_effectiveness_std|human_capital_index|doing_business|time_to_get_operation_license|statistical_performance_indicators|individuals_using_internet%|logistic_performance_index|military_expenditure%|     GDP_current_US|political_stability_estimate|political_stability_std|rule_of_law_estimate|  rule_of_law_std|regulatory_quality_estimate|regulatory_quality_std|government_expenditure_on_education%|government_health_expenditure%|multidimensional_poverty_headcount_ratio%|gini_index|birth_rate|death_rate|life_expectancy_at_birth|population|rural_population|voice_and_accountability_estimate|voice_and_accountability_std|intentional_homicides|year|           GDP_lag1|lifeExp_lag1|\n",
      "+-------+----------+------------------+----------------+---------+-----------------+------------------+------------------------------+-------------------------+----------------------+------------------------------+--------------------------+------------+-------------------------+------------------+-----------------+------------------+-----------------------+-------------------------------------+-----------------------+----------------+----------------+--------------------------------+---------------------------+-------------------+--------------+-----------------------------+----------------------------------+---------------------------+--------------------------+---------------------+-------------------+----------------------------+-----------------------+--------------------+-----------------+---------------------------+----------------------+------------------------------------+------------------------------+-----------------------------------------+----------+----------+----------+------------------------+----------+----------------+---------------------------------+----------------------------+---------------------+----+-------------------+------------+\n",
      "|Albania|2005-01-01|  39.3065693430657|28.3096715328467|  27400.0|           1485.0|  32.9051093730619|            -0.813263893127441|        0.160477265715599|      99.3711242675781|                         36.77|          1722.07284972507|      4095.9|              9016.941954|  109.908284671533| 2.36658195679796|   9.4555054819425|       7.55325723333333|                                 NULL|                   NULL|            NULL|            NULL|              -0.696387231349945|          0.208881720900536|               NULL|          NULL|                         NULL|                              NULL|                6.043890864|                      NULL|     1.35000497056322| 8.05207724814638E9|          -0.505047976970673|      0.300349622964859|  -0.763833165168762|0.193423539400101|         -0.400731235742569|     0.169427543878555|                    3.28154993057251|                    2.66531777|                                     NULL|      30.6|    13.235|     6.306|                  76.621| 3011487.0|       1604189.0|               0.0036717876791954|            0.17199981212616|     5.07809382866511|2005| 4.34806824219512E9|       75.89|\n",
      "|Albania|2008-01-01|  43.1021897810219|28.4494890510949|  27400.0|           1485.0|  39.6561732009093|            -0.605212390422821|        0.144490748643875|                 100.0|                         35.79|           1617.7441562046|      4209.5|              8733.156627|  107.566204379562| 3.32087090389264|  8.55052487389148|       6.77790761239409|                    0.154119998216629|                   NULL|            NULL|            NULL|              -0.367063492536545|           0.22746941447258|               NULL|          NULL|                         NULL|                              NULL|                      23.86|                      NULL|     1.98486885667765|1.28813528936855E10|         -0.0305009130388498|      0.263591170310974|  -0.600079298019409|0.156924396753311|          0.137666508555412|     0.193489730358124|                    3.50922608375549|                     2.2712636|                                     NULL|      30.0|    11.868|      6.57|                  77.653| 2947314.0|       1473922.0|                0.174939081072807|           0.134313121438026|     3.15073844161766|2008| 8.05207724814638E9|      76.621|\n",
      "|Albania|2012-01-01|  43.8430656934307|28.6466058394161|  27400.0|           1485.0|  34.9265806164893|            -0.778729438781738|        0.128089383244514|                  99.9|                         39.91|          2118.32777605579|      4541.8|              9070.545303|  105.854051094891| 2.03159268395301|  9.73611207346728|        5.7287029200902|                                 NULL|       63.6691526405469|17.4832335567459| 23.007590723666|               -0.26892501115799|          0.209506079554558|               NULL|          NULL|                         NULL|                              NULL|                       49.4|                      2.77|     1.48708257655216| 1.2319834195331E10|          -0.143631592392921|      0.221984326839447|  -0.519839763641357|0.131550967693329|          0.240491986274719|      0.18147948384285|                    3.30906105041504|                    2.45518684|                                     NULL|      29.0|    12.227|     7.573|                  78.064| 2900401.0|       1324613.0|               0.0220640376210213|           0.117871649563313|     5.42840674878889|2012|1.28813528936855E10|      77.653|\n",
      "|Albania|2014-01-01|   42.857299270073|28.7505109489051|  27400.0|           1485.0|   34.480288657765|            -0.586141347885132|        0.132680907845497|                 99.95|                         38.56|          2309.36650255581|      5188.0|              9738.800297|  105.441751824818|  1.6258650440261|  6.32455753333484|                 4.8575|                                 NULL|       73.3202274771466|18.3019361358269|24.3826654387392|             -0.0489184409379959|          0.232782915234566|               NULL|          NULL|                         NULL|                              NULL|                       54.3|                      NULL|     1.34651599128914|1.32281475161168E10|           0.485986232757568|      0.196386188268661|  -0.310979843139648|0.142986476421356|          0.279037684202194|     0.197846993803978|                    3.21696710586548|                     2.5936265|                                     NULL|      34.6|     12.15|     7.868|                  78.407| 2889104.0|       1258985.0|                0.143777400255203|           0.124897427856922|     4.64616022595595|2014| 1.2319834195331E10|      78.064|\n",
      "|Albania|2015-01-01|  42.8576642335766|28.8024635036496|  27400.0|           1485.0|  34.3873305784545|            -0.544385254383087|        0.133819967508316|                 99.98|                         38.49|                      NULL|      4797.0|              9408.765344|  105.135145985401| 1.89617402592365|  7.27249242163997|                 5.1375|                                 NULL|       79.8644181475793|18.5157898553099|24.4461757489854|              0.0282399524003267|          0.232511222362518|               NULL|          NULL|                         NULL|                              NULL|                       56.9|                      NULL|     1.16230386432234|1.13868531130189E10|           0.341639041900635|      0.201144516468048|  -0.318997442722321|0.144987210631371|          0.174237310886383|     0.193548530340195|                    3.43796992301941|                      2.731354|                                     NULL|      32.8|    11.718|     7.947|                  78.644| 2880703.0|       1226200.0|                0.157161772251129|           0.127311557531357|     2.22030990322398|2015|1.32281475161168E10|      78.407|\n",
      "+-------+----------+------------------+----------------+---------+-----------------+------------------+------------------------------+-------------------------+----------------------+------------------------------+--------------------------+------------+-------------------------+------------------+-----------------+------------------+-----------------------+-------------------------------------+-----------------------+----------------+----------------+--------------------------------+---------------------------+-------------------+--------------+-----------------------------+----------------------------------+---------------------------+--------------------------+---------------------+-------------------+----------------------------+-----------------------+--------------------+-----------------+---------------------------+----------------------+------------------------------------+------------------------------+-----------------------------------------+----------+----------+----------+------------------------+----------+----------------+---------------------------------+----------------------------+---------------------+----+-------------------+------------+\n",
      "only showing top 5 rows\n",
      "\n"
     ]
    }
   ],
   "source": [
    "from pyspark.sql.window import Window \n",
    "from pyspark.sql.functions import lag, col\n",
    "\n",
    "window_spec = Window.partitionBy(\"country\").orderBy(\"year\")\n",
    "df_lagged = (\n",
    "    df_filtered_clean\n",
    "    .withColumn(\"GDP_lag1\", lag(\"GDP_current_US\", 1).over(window_spec))\n",
    "    .withColumn(\"lifeExp_lag1\", lag(\"life_expectancy_at_birth\", 1).over(window_spec))\n",
    "    .filter(col(\"GDP_lag1\").isNotNull() & col(\"lifeExp_lag1\").isNotNull())\n",
    ")\n",
    "df_lagged.show(5)"
   ]
  },
  {
   "cell_type": "code",
   "execution_count": 44,
   "id": "5d3541ea-f3f2-4e29-9187-c0d52bec435c",
   "metadata": {},
   "outputs": [],
   "source": [
    "#Assemble and split for GDP forecasting \n",
    "assembler_gdp = VectorAssembler(inputCols=[\"GDP_lag1\"], outputCol=\"features_gdp\")\n",
    "df_gdp = (\n",
    "    assembler_gdp.transform(df_lagged)\n",
    "    .select(\"country\", \"year\", \"features_gdp\", \"GDP_current_US\")\n",
    ")\n",
    "train_gdp = df_gdp.filter(col(\"year\") <= 2015)\n",
    "test_gdp = df_gdp.filter(col(\"year\") > 2015)"
   ]
  },
  {
   "cell_type": "code",
   "execution_count": 46,
   "id": "35711c4f-3657-4914-be05-e86b957925a1",
   "metadata": {},
   "outputs": [
    {
     "name": "stderr",
     "output_type": "stream",
     "text": [
      "25/05/08 11:33:23 WARN Instrumentation: [181df734] regParam is zero, which might cause numerical instability and overfitting.\n",
      "25/05/08 11:33:23 WARN InstanceBuilder: Failed to load implementation from:dev.ludovic.netlib.lapack.JNILAPACK\n"
     ]
    },
    {
     "name": "stdout",
     "output_type": "stream",
     "text": [
      "GDP Forecast → RMSE = 122169415034.40, R² = 0.998\n"
     ]
    }
   ],
   "source": [
    "from pyspark.ml.regression import LinearRegression\n",
    "from pyspark.ml.evaluation import RegressionEvaluator\n",
    "\n",
    "lr_gdp = LinearRegression(\n",
    "    featuresCol=\"features_gdp\",\n",
    "    labelCol=\"GDP_current_US\",\n",
    "    predictionCol=\"prediction_gdp\"\n",
    ")\n",
    "model_gdp = lr_gdp.fit(train_gdp)\n",
    "pred_gdp  = model_gdp.transform(test_gdp)\n",
    "\n",
    "evaluator = RegressionEvaluator(\n",
    "    labelCol=\"GDP_current_US\",\n",
    "    predictionCol=\"prediction_gdp\",\n",
    "    metricName=\"rmse\"\n",
    ")\n",
    "rmse_gdp = evaluator.evaluate(pred_gdp)\n",
    "r2_gdp   = evaluator.setMetricName(\"r2\").evaluate(pred_gdp)\n",
    "\n",
    "print(f\"GDP Forecast → RMSE = {rmse_gdp:.2f}, R² = {r2_gdp:.3f}\")"
   ]
  },
  {
   "cell_type": "markdown",
   "id": "4a3f4564-5f57-4e1c-a2dd-aa4ad4a15385",
   "metadata": {},
   "source": [
    "RMSE = 12,216,941,503.40 \n",
    "- this is the \"typical\" error in the predictions. This is reasonably small relative to overall scale\n",
    "R^2 = 0.998\n",
    "- this indicates that the model explains 99.8% of the variance, which makes sense because GDP is highly autocorrelated year-to-year"
   ]
  },
  {
   "cell_type": "code",
   "execution_count": 48,
   "id": "e90638d1-38cc-452a-8b5c-8280f47cb399",
   "metadata": {},
   "outputs": [],
   "source": [
    "#  Assemble and split for Life Expectancy forecasting\n",
    "assembler_le = VectorAssembler(inputCols=[\"lifeExp_lag1\"], outputCol=\"features_le\")\n",
    "df_le = (\n",
    "    assembler_le.transform(df_lagged)\n",
    "    .select(\"country\", \"year\", \"features_le\", \"life_expectancy_at_birth\")\n",
    ")\n",
    "train_le = df_le.filter(col(\"year\") <= 2015)\n",
    "test_le  = df_le.filter(col(\"year\") > 2015)"
   ]
  },
  {
   "cell_type": "code",
   "execution_count": 50,
   "id": "325737e5-ea17-41af-ad78-9e771431b0b5",
   "metadata": {},
   "outputs": [
    {
     "name": "stderr",
     "output_type": "stream",
     "text": [
      "25/05/08 11:33:28 WARN Instrumentation: [dcfe1e09] regParam is zero, which might cause numerical instability and overfitting.\n"
     ]
    },
    {
     "name": "stdout",
     "output_type": "stream",
     "text": [
      "Life Expectancy Forecast → RMSE = 1.33, R² = 0.951\n",
      "+-------+----+------------------------+-----------------+\n",
      "|country|year|life_expectancy_at_birth|    prediction_le|\n",
      "+-------+----+------------------------+-----------------+\n",
      "|Albania|2016|                   78.86|78.76087033863917|\n",
      "|Albania|2017|                  79.047|78.95863556308365|\n",
      "|Albania|2018|                  79.184|79.12984897498698|\n",
      "|Albania|2019|                  79.282|79.25528339975038|\n",
      "|Albania|2020|                  76.989|79.34501021454464|\n",
      "+-------+----+------------------------+-----------------+\n",
      "only showing top 5 rows\n",
      "\n"
     ]
    }
   ],
   "source": [
    "# Train & evaluate a Linear Regression model for Life Expectancy\n",
    "lr_le = LinearRegression(\n",
    "    featuresCol=\"features_le\",\n",
    "    labelCol=\"life_expectancy_at_birth\",\n",
    "    predictionCol=\"prediction_le\"\n",
    ")\n",
    "model_le = lr_le.fit(train_le)\n",
    "pred_le  = model_le.transform(test_le)\n",
    "\n",
    "rmse_le = RegressionEvaluator(\n",
    "    labelCol=\"life_expectancy_at_birth\",\n",
    "    predictionCol=\"prediction_le\",\n",
    "    metricName=\"rmse\"\n",
    ").evaluate(pred_le)\n",
    "r2_le   = RegressionEvaluator(\n",
    "    labelCol=\"life_expectancy_at_birth\",\n",
    "    predictionCol=\"prediction_le\",\n",
    "    metricName=\"r2\"\n",
    ").evaluate(pred_le)\n",
    "\n",
    "print(f\"Life Expectancy Forecast → RMSE = {rmse_le:.2f}, R² = {r2_le:.3f}\")\n",
    "pred_le.select(\"country\",\"year\",\"life_expectancy_at_birth\",\"prediction_le\").show(5)\n"
   ]
  },
  {
   "cell_type": "markdown",
   "id": "499f72cd-9624-462e-a5e6-75bcc9dd5975",
   "metadata": {},
   "source": [
    "RMSE = 1.33 years \n",
    "- one-lag model is off by about 1.3 years in predicting a country's life expectancy, which is quite reasonable\n",
    "R^2 = 0.951\n",
    "- the model explains 95.1% of the variance in the test data, reflecting strong year-to-year persistence in life expectancy\n"
   ]
  },
  {
   "cell_type": "markdown",
   "id": "6e25e28c-ece3-4904-be97-da7bdb63c24d",
   "metadata": {},
   "source": [
    "## 5. Inequality Modeling\n",
    "\n",
    "In this section we explore which development indicators are most closely associated with income inequality (Gini index).  \n",
    "1. **Candidate selection:** We start with a broad set of governance, spending, access, and social indicators.  \n",
    "2. **Correlation ranking:** We compute Pearson correlations between each candidate and the Gini index, then sort by absolute value to identify the strongest relationships.  \n",
    "3. **Feature choice:** Based on the ranking, we select the top five predictors for our ElasticNet regression model.  \n",
    "\n",
    "The code below carries out these steps and lists the top five drivers of inequality, which we will then use in the regression pipeline that follows in Section 5.1.\n"
   ]
  },
  {
   "cell_type": "code",
   "execution_count": 54,
   "id": "c6a99d54-f8c1-4a4e-bed7-cef94c41045e",
   "metadata": {},
   "outputs": [
    {
     "name": "stdout",
     "output_type": "stream",
     "text": [
      "individuals_using_internet%              → corr with Gini = -0.469\n",
      "rule_of_law_estimate                     → corr with Gini = -0.440\n",
      "control_of_corruption_estimate           → corr with Gini = -0.388\n",
      "life_expectancy_at_birth                 → corr with Gini = -0.378\n",
      "government_health_expenditure%           → corr with Gini = -0.366\n",
      "access_to_electricity%                   → corr with Gini = -0.307\n",
      "government_expenditure_on_education%     → corr with Gini = -0.204\n",
      "human_capital_index                      → corr with Gini = -0.102\n",
      "multidimensional_poverty_headcount_ratio% → corr with Gini = -0.073\n",
      "GDP_current_US                           → corr with Gini = 0.042\n"
     ]
    }
   ],
   "source": [
    "from pyspark.sql.functions import corr\n",
    "from pyspark.sql.functions import col\n",
    "\n",
    "candidates = [\n",
    "    \"government_expenditure_on_education%\",\n",
    "    \"government_health_expenditure%\",\n",
    "    \"individuals_using_internet%\",\n",
    "    \"rule_of_law_estimate\",\n",
    "    \"control_of_corruption_estimate\",\n",
    "    \"multidimensional_poverty_headcount_ratio%\",\n",
    "    \"human_capital_index\",\n",
    "    \"access_to_electricity%\",\n",
    "    \"GDP_current_US\",\n",
    "    \"life_expectancy_at_birth\"\n",
    "]\n",
    "\n",
    "#correlations\n",
    "cors = []\n",
    "for f in candidates:\n",
    "    r = df_filtered_clean.stat.corr(\"gini_index\", f)\n",
    "    cors.append((f, r))\n",
    "\n",
    "\n",
    "cors_sorted = sorted(cors, key=lambda x: abs(x[1]) if x[1] is not None else 0, reverse=True)\n",
    "\n",
    "# Print them out\n",
    "for feature, corr_val in cors_sorted:\n",
    "    print(f\"{feature:40s} → corr with Gini = {corr_val:.3f}\")"
   ]
  },
  {
   "cell_type": "markdown",
   "id": "5204a7cf-8483-4549-8e13-73294941fbf1",
   "metadata": {},
   "source": [
    "according to this correlation function, the top five drivers of income inequality are: \n",
    "- individuals_using_internet% (corr ≈ –0.469)\n",
    "\n",
    "- rule_of_law_estimate (corr ≈ –0.440)\n",
    "\n",
    "- control_of_corruption_estimate (corr ≈ –0.388)\n",
    "\n",
    "- life_expectancy_at_birth (corr ≈ –0.378)\n",
    "\n",
    "- government_health_expenditure% (corr ≈ –0.366)"
   ]
  },
  {
   "cell_type": "markdown",
   "id": "165deb25-99ab-458b-b5d7-0e5f913f9c2c",
   "metadata": {},
   "source": [
    "### 5.1 Inequality Regression Pipeline "
   ]
  },
  {
   "cell_type": "code",
   "execution_count": 60,
   "id": "09608c7f-fddb-48be-a351-9d5fd9e6aa6c",
   "metadata": {},
   "outputs": [],
   "source": [
    "ineq_features = [\n",
    "    \"individuals_using_internet%\",\n",
    "    \"rule_of_law_estimate\",\n",
    "    \"control_of_corruption_estimate\",\n",
    "    \"life_expectancy_at_birth\",\n",
    "    \"government_health_expenditure%\"\n",
    "]\n"
   ]
  },
  {
   "cell_type": "code",
   "execution_count": 64,
   "id": "06e015e9-e73f-4201-8539-af0b1427e1bb",
   "metadata": {},
   "outputs": [],
   "source": [
    "#dropping any rows missing those predictors/target\n",
    "raw_drop = df_filtered_clean.na.drop(\n",
    "    subset=ineq_features + [\"gini_index\"]\n",
    ")"
   ]
  },
  {
   "cell_type": "code",
   "execution_count": 68,
   "id": "fb3a9c77-36ab-4321-a12a-f627a4aa4b0e",
   "metadata": {},
   "outputs": [
    {
     "name": "stdout",
     "output_type": "stream",
     "text": [
      "+-------+----+--------------------+----------+\n",
      "|country|year|       features_ineq|gini_index|\n",
      "+-------+----+--------------------+----------+\n",
      "|Albania|2002|[0.390081273,-0.7...|      31.7|\n",
      "|Albania|2005|[6.043890864,-0.7...|      30.6|\n",
      "|Albania|2008|[23.86,-0.6000792...|      30.0|\n",
      "|Albania|2012|[49.4,-0.51983976...|      29.0|\n",
      "|Albania|2014|[54.3,-0.31097984...|      34.6|\n",
      "+-------+----+--------------------+----------+\n",
      "only showing top 5 rows\n",
      "\n"
     ]
    }
   ],
   "source": [
    "#assembling into a feature vector\n",
    "assembler_ineq = VectorAssembler(\n",
    "    inputCols=ineq_features, \n",
    "    outputCol=\"features_ineq\"\n",
    ")\n",
    "df_ineq_all = assembler_ineq.transform(raw_drop)\n",
    "\n",
    "df_ineq = df_ineq_all.select(\"country\", \"year\", \"features_ineq\", \"gini_index\") \n",
    "df_ineq.show(5)"
   ]
  },
  {
   "cell_type": "code",
   "execution_count": 70,
   "id": "1b34604f-08af-4e8a-b69f-d44a32eee0ff",
   "metadata": {},
   "outputs": [
    {
     "name": "stdout",
     "output_type": "stream",
     "text": [
      "Inequality Model → RMSE = 6.522, R² = 0.154\n"
     ]
    }
   ],
   "source": [
    "train_ineq = df_ineq.filter(col(\"year\") <= 2015)\n",
    "test_ineq  = df_ineq.filter(col(\"year\") > 2015)\n",
    "\n",
    "# Train\n",
    "lr_ineq = LinearRegression(\n",
    "    featuresCol=\"features_ineq\",\n",
    "    labelCol=\"gini_index\",\n",
    "    predictionCol=\"prediction_ineq\",\n",
    "    regParam=0.1,\n",
    "    elasticNetParam=0.5\n",
    ")\n",
    "model_ineq = lr_ineq.fit(train_ineq)\n",
    "\n",
    "# Predict & Evaluate\n",
    "preds_ineq = model_ineq.transform(test_ineq)\n",
    "\n",
    "rmse = RegressionEvaluator(\n",
    "    labelCol=\"gini_index\", \n",
    "    predictionCol=\"prediction_ineq\", \n",
    "    metricName=\"rmse\"\n",
    ").evaluate(preds_ineq)\n",
    "\n",
    "r2 = RegressionEvaluator(\n",
    "    labelCol=\"gini_index\", \n",
    "    predictionCol=\"prediction_ineq\", \n",
    "    metricName=\"r2\"\n",
    ").evaluate(preds_ineq)\n",
    "\n",
    "print(f\"Inequality Model → RMSE = {rmse:.3f}, R² = {r2:.3f}\")\n"
   ]
  },
  {
   "cell_type": "markdown",
   "id": "31c06c8a-2302-427b-a529-1c1f91743d27",
   "metadata": {},
   "source": [
    "**Inequality Regression Results**\n",
    "\n",
    "- **Model:** Linear regression (5 predictors, regParam=0.1, elasticNetParam=0.5)  \n",
    "- **Out‐of‐sample performance:**  \n",
    "  - RMSE = 6.52 (Gini points)  \n",
    "  - R² = 0.154  \n",
    "\n",
    "> The model explains only ~15% of the year‐to‐year variance in the Gini index, with an average prediction error of about 6.5 Gini points. This relatively low R² is expected given the complexity of income inequality—factors like tax policy, labor market dynamics and demographic shifts are not captured here. Future improvements could include additional predictors, multi‐lag features, nonlinear algorithms (e.g. GBT), or separate models for high‐ vs. low‐development clusters.  \n"
   ]
  },
  {
   "cell_type": "markdown",
   "id": "69db66be-32eb-44d3-8e02-adc27e0d24d3",
   "metadata": {},
   "source": [
    "-----"
   ]
  },
  {
   "cell_type": "markdown",
   "id": "673e55be-8b41-4008-be19-d702ce3d2390",
   "metadata": {},
   "source": [
    "## 6. Summary "
   ]
  },
  {
   "cell_type": "markdown",
   "id": "603e93d2-9e48-44d4-a472-2ef53d9c7fa3",
   "metadata": {},
   "source": [
    "\n",
    "\n",
    "**1. Clustering (2020 Development Tiers)**  \n",
    "- K‐Means with k=2 gave the highest silhouette (0.7363)  \n",
    "- **Cluster 0:** High‐development (avg GDP ≈1.08×10¹¹, life exp ≈76.8 yrs, electricity ≈99.7%, Gini ≈34.7)  \n",
    "- **Cluster 1:** Lower‐development (avg GDP ≈3.85×10¹⁰, life exp ≈61.6 yrs, electricity ≈40.7%, Gini ≈39.3)\n",
    "\n",
    "**2. Time‐Series Forecasting**  \n",
    "- **GDP:** Lag‐1 linear model → RMSE ≈12.2 billion, R²=0.998  \n",
    "- **Life expectancy:** Lag‐1 linear model → RMSE ≈1.33 yrs, R²=0.951  \n",
    "  - Strong year‐to‐year autocorrelation; future work could add multi‐lag and external predictors.\n",
    "\n",
    "**3. Inequality Modeling**  \n",
    "- Predictors: internet access, rule of law, corruption control, life expectancy, health spending  \n",
    "- ElasticNet regression → RMSE ≈6.52, R²=0.154  \n",
    "  - Only 15% of variance explained—inequality is driven by many additional factors.\n",
    "\n",
    "**Next Steps & Scaling**  \n",
    "- Extend feature sets (tax revenue, labor metrics, demographics) and use non‐linear models  \n",
    "- Run full pipeline on Lena’s HDFS using PySpark (cache intermediate DataFrames, partition by country)  \n",
    "- In a production setting, parameter‐tune `k`, `regParam`, and `elasticNetParam` via cross‐validation  \n",
    "\n",
    "*This notebook demonstrated end-to-end big-data workflows in PySpark: clustering, forecasting, and regression modeling.*  \n"
   ]
  },
  {
   "cell_type": "markdown",
   "id": "b92fdc61-bc4f-4d20-bc7d-fe04ed2ffa5f",
   "metadata": {},
   "source": [
    "---"
   ]
  },
  {
   "cell_type": "markdown",
   "id": "2ff6d99f-6a64-42b5-8778-e69ae9999a8b",
   "metadata": {},
   "source": [
    "## 7. Appendix and References"
   ]
  },
  {
   "cell_type": "markdown",
   "id": "bb7a4699-295e-4db1-a2cb-38941907012e",
   "metadata": {},
   "source": [
    "### Data Sources  \n",
    "- **World Bank World Development Indicators (1960–2022)**  \n",
    "  URL: https://databank.worldbank.org/source/world-development-indicators  \n",
    "- **Kaggle mirror** (for standalone CSV download)  \n",
    "  https://www.kaggle.com/datasets/nicolasgonzalezmunoz/world-bank-world-development-indicators  \n",
    "\n",
    "### Tools & Environment  \n",
    "- **Apache Spark** 3.3.0 (Spark SQL & MLlib)  \n",
    "- **PySpark** (Python 3.9)  \n",
    "- **Hadoop** 3.x client (for HDFS integration on Lena)  \n",
    "- **Java** 8 or 11 (required by Spark)  \n",
    "- **Kaggle API** (for local data pulls via `kaggledatasets` package)  \n",
    "\n",
    "### How to Run on Lena HDFS  \n",
    "```python\n",
    "# reference path on UoL Lena\n",
    "df_raw = spark.read.csv(\n",
    "    \"hdfs:///user/miovi001/worldbank/world_bank_development_indicators.csv\",\n",
    "    header=True,\n",
    "    inferSchema=True\n",
    ")\n"
   ]
  },
  {
   "cell_type": "code",
   "execution_count": null,
   "id": "cbc6cf42-6973-4ba1-8503-569427352df1",
   "metadata": {},
   "outputs": [],
   "source": []
  }
 ],
 "metadata": {
  "kernelspec": {
   "display_name": "Python 3 (ipykernel)",
   "language": "python",
   "name": "python3"
  },
  "language_info": {
   "codemirror_mode": {
    "name": "ipython",
    "version": 3
   },
   "file_extension": ".py",
   "mimetype": "text/x-python",
   "name": "python",
   "nbconvert_exporter": "python",
   "pygments_lexer": "ipython3",
   "version": "3.12.4"
  }
 },
 "nbformat": 4,
 "nbformat_minor": 5
}
